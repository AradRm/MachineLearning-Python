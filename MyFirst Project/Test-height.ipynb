{
 "cells": [
  {
   "cell_type": "code",
   "execution_count": 6,
   "id": "095d638b",
   "metadata": {},
   "outputs": [],
   "source": [
    "import matplotlib.pyplot as plt\n",
    "import pandas as pd\n",
    "import numpy as np\n",
    "%matplotlib inline"
   ]
  },
  {
   "cell_type": "code",
   "execution_count": 51,
   "id": "c5f48fb3",
   "metadata": {},
   "outputs": [
    {
     "data": {
      "text/html": [
       "<div>\n",
       "<style scoped>\n",
       "    .dataframe tbody tr th:only-of-type {\n",
       "        vertical-align: middle;\n",
       "    }\n",
       "\n",
       "    .dataframe tbody tr th {\n",
       "        vertical-align: top;\n",
       "    }\n",
       "\n",
       "    .dataframe thead th {\n",
       "        text-align: right;\n",
       "    }\n",
       "</style>\n",
       "<table border=\"1\" class=\"dataframe\">\n",
       "  <thead>\n",
       "    <tr style=\"text-align: right;\">\n",
       "      <th></th>\n",
       "      <th>name</th>\n",
       "      <th>age</th>\n",
       "      <th>weight</th>\n",
       "      <th>footsize</th>\n",
       "      <th>height</th>\n",
       "    </tr>\n",
       "  </thead>\n",
       "  <tbody>\n",
       "    <tr>\n",
       "      <th>0</th>\n",
       "      <td>salma</td>\n",
       "      <td>29</td>\n",
       "      <td>76</td>\n",
       "      <td>37</td>\n",
       "      <td>156</td>\n",
       "    </tr>\n",
       "    <tr>\n",
       "      <th>1</th>\n",
       "      <td>meysam</td>\n",
       "      <td>30</td>\n",
       "      <td>120</td>\n",
       "      <td>46</td>\n",
       "      <td>183</td>\n",
       "    </tr>\n",
       "    <tr>\n",
       "      <th>2</th>\n",
       "      <td>sajad</td>\n",
       "      <td>21</td>\n",
       "      <td>70</td>\n",
       "      <td>42</td>\n",
       "      <td>175</td>\n",
       "    </tr>\n",
       "    <tr>\n",
       "      <th>3</th>\n",
       "      <td>koroshi</td>\n",
       "      <td>22</td>\n",
       "      <td>70</td>\n",
       "      <td>43</td>\n",
       "      <td>175</td>\n",
       "    </tr>\n",
       "    <tr>\n",
       "      <th>4</th>\n",
       "      <td>fatemeh</td>\n",
       "      <td>21</td>\n",
       "      <td>48</td>\n",
       "      <td>38</td>\n",
       "      <td>168</td>\n",
       "    </tr>\n",
       "    <tr>\n",
       "      <th>5</th>\n",
       "      <td>Ali.tabrizi</td>\n",
       "      <td>25</td>\n",
       "      <td>65</td>\n",
       "      <td>40</td>\n",
       "      <td>176</td>\n",
       "    </tr>\n",
       "    <tr>\n",
       "      <th>6</th>\n",
       "      <td>02:41</td>\n",
       "      <td>22</td>\n",
       "      <td>67</td>\n",
       "      <td>42</td>\n",
       "      <td>188</td>\n",
       "    </tr>\n",
       "    <tr>\n",
       "      <th>7</th>\n",
       "      <td>sina</td>\n",
       "      <td>21</td>\n",
       "      <td>72</td>\n",
       "      <td>34</td>\n",
       "      <td>174</td>\n",
       "    </tr>\n",
       "    <tr>\n",
       "      <th>8</th>\n",
       "      <td>maman</td>\n",
       "      <td>48</td>\n",
       "      <td>71</td>\n",
       "      <td>37</td>\n",
       "      <td>160</td>\n",
       "    </tr>\n",
       "    <tr>\n",
       "      <th>9</th>\n",
       "      <td>amirhoseyn</td>\n",
       "      <td>20</td>\n",
       "      <td>62</td>\n",
       "      <td>41</td>\n",
       "      <td>174</td>\n",
       "    </tr>\n",
       "    <tr>\n",
       "      <th>10</th>\n",
       "      <td>amirali</td>\n",
       "      <td>20</td>\n",
       "      <td>65</td>\n",
       "      <td>40</td>\n",
       "      <td>175</td>\n",
       "    </tr>\n",
       "    <tr>\n",
       "      <th>11</th>\n",
       "      <td>newman</td>\n",
       "      <td>20</td>\n",
       "      <td>66</td>\n",
       "      <td>41</td>\n",
       "      <td>179</td>\n",
       "    </tr>\n",
       "    <tr>\n",
       "      <th>12</th>\n",
       "      <td>setila</td>\n",
       "      <td>20</td>\n",
       "      <td>50</td>\n",
       "      <td>38</td>\n",
       "      <td>163</td>\n",
       "    </tr>\n",
       "    <tr>\n",
       "      <th>13</th>\n",
       "      <td>ronak</td>\n",
       "      <td>17</td>\n",
       "      <td>55</td>\n",
       "      <td>39</td>\n",
       "      <td>164</td>\n",
       "    </tr>\n",
       "    <tr>\n",
       "      <th>14</th>\n",
       "      <td>F.somaye</td>\n",
       "      <td>27</td>\n",
       "      <td>75</td>\n",
       "      <td>39</td>\n",
       "      <td>169</td>\n",
       "    </tr>\n",
       "    <tr>\n",
       "      <th>15</th>\n",
       "      <td>ghazaleh</td>\n",
       "      <td>22</td>\n",
       "      <td>68</td>\n",
       "      <td>49</td>\n",
       "      <td>175</td>\n",
       "    </tr>\n",
       "    <tr>\n",
       "      <th>16</th>\n",
       "      <td>sharare</td>\n",
       "      <td>29</td>\n",
       "      <td>62</td>\n",
       "      <td>38</td>\n",
       "      <td>168</td>\n",
       "    </tr>\n",
       "    <tr>\n",
       "      <th>17</th>\n",
       "      <td>mahsa</td>\n",
       "      <td>23</td>\n",
       "      <td>61</td>\n",
       "      <td>39</td>\n",
       "      <td>168</td>\n",
       "    </tr>\n",
       "    <tr>\n",
       "      <th>18</th>\n",
       "      <td>raha</td>\n",
       "      <td>20</td>\n",
       "      <td>56</td>\n",
       "      <td>39</td>\n",
       "      <td>168</td>\n",
       "    </tr>\n",
       "  </tbody>\n",
       "</table>\n",
       "</div>"
      ],
      "text/plain": [
       "           name  age  weight  footsize  height\n",
       "0         salma   29      76        37     156\n",
       "1        meysam   30     120        46     183\n",
       "2         sajad   21      70        42     175\n",
       "3       koroshi   22      70        43     175\n",
       "4       fatemeh   21      48        38     168\n",
       "5   Ali.tabrizi   25      65        40     176\n",
       "6         02:41   22      67        42     188\n",
       "7          sina   21      72        34     174\n",
       "8         maman   48      71        37     160\n",
       "9    amirhoseyn   20      62        41     174\n",
       "10      amirali   20      65        40     175\n",
       "11       newman   20      66        41     179\n",
       "12       setila   20      50        38     163\n",
       "13        ronak   17      55        39     164\n",
       "14     F.somaye   27      75        39     169\n",
       "15     ghazaleh   22      68        49     175\n",
       "16      sharare   29      62        38     168\n",
       "17        mahsa   23      61        39     168\n",
       "18         raha   20      56        39     168"
      ]
     },
     "execution_count": 51,
     "metadata": {},
     "output_type": "execute_result"
    }
   ],
   "source": [
    "datas = {\n",
    "    'name': ['salma', 'meysam', 'sajad', 'koroshi', 'fatemeh', 'Ali.tabrizi', '02:41', 'sina', 'maman', 'amirhoseyn', 'amirali',\n",
    "             'newman', 'setila','ronak', 'F.somaye','ghazaleh', 'sharare','mahsa','raha'],\n",
    "    \"age\": [29, 30, 21, 22, 21, 25, 22, 21, 48, 20, 20, 20, 20, 17, 27, 22, 29, 23, 20],\n",
    "    'weight': [76, 120, 70, 70, 48, 65, 67, 72, 71, 62, 65, 66, 50, 55, 75, 68, 62, 61, 56],\n",
    "    'footsize': [37, 46, 42, 43, 38, 40, 42, 34, 37, 41, 40, 41, 38, 39, 39, 49, 38, 39, 39],\n",
    "    'height': [156, 183, 175, 175, 168, 176, 188, 174, 160, 174, 175, 179, 163, 164, 169, 175, 168, 168, 168]\n",
    "}\n",
    "\n",
    "df=pd.DataFrame(datas)\n",
    "df"
   ]
  },
  {
   "cell_type": "code",
   "execution_count": 24,
   "id": "8e6ac268",
   "metadata": {},
   "outputs": [
    {
     "data": {
      "text/html": [
       "<div>\n",
       "<style scoped>\n",
       "    .dataframe tbody tr th:only-of-type {\n",
       "        vertical-align: middle;\n",
       "    }\n",
       "\n",
       "    .dataframe tbody tr th {\n",
       "        vertical-align: top;\n",
       "    }\n",
       "\n",
       "    .dataframe thead th {\n",
       "        text-align: right;\n",
       "    }\n",
       "</style>\n",
       "<table border=\"1\" class=\"dataframe\">\n",
       "  <thead>\n",
       "    <tr style=\"text-align: right;\">\n",
       "      <th></th>\n",
       "      <th>age</th>\n",
       "      <th>weight</th>\n",
       "      <th>footsize</th>\n",
       "      <th>height</th>\n",
       "    </tr>\n",
       "  </thead>\n",
       "  <tbody>\n",
       "    <tr>\n",
       "      <th>count</th>\n",
       "      <td>19.000000</td>\n",
       "      <td>19.000000</td>\n",
       "      <td>19.000000</td>\n",
       "      <td>19.000000</td>\n",
       "    </tr>\n",
       "    <tr>\n",
       "      <th>mean</th>\n",
       "      <td>24.052632</td>\n",
       "      <td>67.315789</td>\n",
       "      <td>40.105263</td>\n",
       "      <td>171.473684</td>\n",
       "    </tr>\n",
       "    <tr>\n",
       "      <th>std</th>\n",
       "      <td>6.835152</td>\n",
       "      <td>14.948254</td>\n",
       "      <td>3.381235</td>\n",
       "      <td>7.812870</td>\n",
       "    </tr>\n",
       "    <tr>\n",
       "      <th>min</th>\n",
       "      <td>17.000000</td>\n",
       "      <td>48.000000</td>\n",
       "      <td>34.000000</td>\n",
       "      <td>156.000000</td>\n",
       "    </tr>\n",
       "    <tr>\n",
       "      <th>25%</th>\n",
       "      <td>20.000000</td>\n",
       "      <td>61.500000</td>\n",
       "      <td>38.000000</td>\n",
       "      <td>168.000000</td>\n",
       "    </tr>\n",
       "    <tr>\n",
       "      <th>50%</th>\n",
       "      <td>22.000000</td>\n",
       "      <td>66.000000</td>\n",
       "      <td>39.000000</td>\n",
       "      <td>174.000000</td>\n",
       "    </tr>\n",
       "    <tr>\n",
       "      <th>75%</th>\n",
       "      <td>26.000000</td>\n",
       "      <td>70.500000</td>\n",
       "      <td>41.500000</td>\n",
       "      <td>175.000000</td>\n",
       "    </tr>\n",
       "    <tr>\n",
       "      <th>max</th>\n",
       "      <td>48.000000</td>\n",
       "      <td>120.000000</td>\n",
       "      <td>49.000000</td>\n",
       "      <td>188.000000</td>\n",
       "    </tr>\n",
       "  </tbody>\n",
       "</table>\n",
       "</div>"
      ],
      "text/plain": [
       "             age      weight   footsize      height\n",
       "count  19.000000   19.000000  19.000000   19.000000\n",
       "mean   24.052632   67.315789  40.105263  171.473684\n",
       "std     6.835152   14.948254   3.381235    7.812870\n",
       "min    17.000000   48.000000  34.000000  156.000000\n",
       "25%    20.000000   61.500000  38.000000  168.000000\n",
       "50%    22.000000   66.000000  39.000000  174.000000\n",
       "75%    26.000000   70.500000  41.500000  175.000000\n",
       "max    48.000000  120.000000  49.000000  188.000000"
      ]
     },
     "execution_count": 24,
     "metadata": {},
     "output_type": "execute_result"
    }
   ],
   "source": [
    "df.describe()"
   ]
  },
  {
   "cell_type": "code",
   "execution_count": 25,
   "id": "04edf283",
   "metadata": {},
   "outputs": [
    {
     "data": {
      "text/html": [
       "<div>\n",
       "<style scoped>\n",
       "    .dataframe tbody tr th:only-of-type {\n",
       "        vertical-align: middle;\n",
       "    }\n",
       "\n",
       "    .dataframe tbody tr th {\n",
       "        vertical-align: top;\n",
       "    }\n",
       "\n",
       "    .dataframe thead th {\n",
       "        text-align: right;\n",
       "    }\n",
       "</style>\n",
       "<table border=\"1\" class=\"dataframe\">\n",
       "  <thead>\n",
       "    <tr style=\"text-align: right;\">\n",
       "      <th></th>\n",
       "      <th>name</th>\n",
       "      <th>age</th>\n",
       "      <th>weight</th>\n",
       "      <th>footsize</th>\n",
       "      <th>height</th>\n",
       "    </tr>\n",
       "  </thead>\n",
       "  <tbody>\n",
       "    <tr>\n",
       "      <th>0</th>\n",
       "      <td>salma</td>\n",
       "      <td>29</td>\n",
       "      <td>76</td>\n",
       "      <td>37</td>\n",
       "      <td>156</td>\n",
       "    </tr>\n",
       "    <tr>\n",
       "      <th>1</th>\n",
       "      <td>meysam</td>\n",
       "      <td>30</td>\n",
       "      <td>120</td>\n",
       "      <td>46</td>\n",
       "      <td>183</td>\n",
       "    </tr>\n",
       "    <tr>\n",
       "      <th>2</th>\n",
       "      <td>sajad</td>\n",
       "      <td>21</td>\n",
       "      <td>70</td>\n",
       "      <td>42</td>\n",
       "      <td>175</td>\n",
       "    </tr>\n",
       "    <tr>\n",
       "      <th>3</th>\n",
       "      <td>koroshi</td>\n",
       "      <td>22</td>\n",
       "      <td>70</td>\n",
       "      <td>43</td>\n",
       "      <td>175</td>\n",
       "    </tr>\n",
       "    <tr>\n",
       "      <th>4</th>\n",
       "      <td>fatemeh</td>\n",
       "      <td>21</td>\n",
       "      <td>48</td>\n",
       "      <td>38</td>\n",
       "      <td>168</td>\n",
       "    </tr>\n",
       "  </tbody>\n",
       "</table>\n",
       "</div>"
      ],
      "text/plain": [
       "      name  age  weight  footsize  height\n",
       "0    salma   29      76        37     156\n",
       "1   meysam   30     120        46     183\n",
       "2    sajad   21      70        42     175\n",
       "3  koroshi   22      70        43     175\n",
       "4  fatemeh   21      48        38     168"
      ]
     },
     "execution_count": 25,
     "metadata": {},
     "output_type": "execute_result"
    }
   ],
   "source": [
    "df.head()"
   ]
  },
  {
   "cell_type": "code",
   "execution_count": 56,
   "id": "1c3f4e06",
   "metadata": {},
   "outputs": [
    {
     "data": {
      "text/html": [
       "<div>\n",
       "<style scoped>\n",
       "    .dataframe tbody tr th:only-of-type {\n",
       "        vertical-align: middle;\n",
       "    }\n",
       "\n",
       "    .dataframe tbody tr th {\n",
       "        vertical-align: top;\n",
       "    }\n",
       "\n",
       "    .dataframe thead th {\n",
       "        text-align: right;\n",
       "    }\n",
       "</style>\n",
       "<table border=\"1\" class=\"dataframe\">\n",
       "  <thead>\n",
       "    <tr style=\"text-align: right;\">\n",
       "      <th></th>\n",
       "      <th>age</th>\n",
       "      <th>weight</th>\n",
       "      <th>footsize</th>\n",
       "      <th>height</th>\n",
       "    </tr>\n",
       "  </thead>\n",
       "  <tbody>\n",
       "    <tr>\n",
       "      <th>0</th>\n",
       "      <td>29</td>\n",
       "      <td>76</td>\n",
       "      <td>37</td>\n",
       "      <td>156</td>\n",
       "    </tr>\n",
       "    <tr>\n",
       "      <th>1</th>\n",
       "      <td>30</td>\n",
       "      <td>120</td>\n",
       "      <td>46</td>\n",
       "      <td>183</td>\n",
       "    </tr>\n",
       "    <tr>\n",
       "      <th>2</th>\n",
       "      <td>21</td>\n",
       "      <td>70</td>\n",
       "      <td>42</td>\n",
       "      <td>175</td>\n",
       "    </tr>\n",
       "    <tr>\n",
       "      <th>3</th>\n",
       "      <td>22</td>\n",
       "      <td>70</td>\n",
       "      <td>43</td>\n",
       "      <td>175</td>\n",
       "    </tr>\n",
       "    <tr>\n",
       "      <th>4</th>\n",
       "      <td>21</td>\n",
       "      <td>48</td>\n",
       "      <td>38</td>\n",
       "      <td>168</td>\n",
       "    </tr>\n",
       "  </tbody>\n",
       "</table>\n",
       "</div>"
      ],
      "text/plain": [
       "   age  weight  footsize  height\n",
       "0   29      76        37     156\n",
       "1   30     120        46     183\n",
       "2   21      70        42     175\n",
       "3   22      70        43     175\n",
       "4   21      48        38     168"
      ]
     },
     "execution_count": 56,
     "metadata": {},
     "output_type": "execute_result"
    }
   ],
   "source": [
    "cdf = df[['age', 'weight', 'footsize', 'height']]\n",
    "cdf.head()"
   ]
  },
  {
   "cell_type": "code",
   "execution_count": 28,
   "id": "fb82f140",
   "metadata": {},
   "outputs": [
    {
     "data": {
      "image/png": "[encoded data removed]",
      "text/plain": [
       "<Figure size 640x480 with 4 Axes>"
      ]
     },
     "metadata": {},
     "output_type": "display_data"
    }
   ],
   "source": [
    "viz = cdf[['age', 'weight', 'footsize', 'height']]\n",
    "viz.hist()\n",
    "plt.show()"
   ]
  },
  {
   "cell_type": "code",
   "execution_count": 31,
   "id": "4db517a9",
   "metadata": {},
   "outputs": [
    {
     "data": {
      "image/png": "[encoded data removed]",
      "text/plain": [
       "<Figure size 640x480 with 1 Axes>"
      ]
     },
     "metadata": {},
     "output_type": "display_data"
    }
   ],
   "source": [
    "plt.scatter(cdf.height, cdf.footsize, color='red')\n",
    "plt.xlabel(\"height\")\n",
    "plt.ylabel(\"footsize\")\n",
    "plt.show()"
   ]
  },
  {
   "cell_type": "code",
   "execution_count": 34,
   "id": "a34f9675",
   "metadata": {},
   "outputs": [
    {
     "data": {
      "image/png": "[encoded data removed]",
      "text/plain": [
       "<Figure size 640x480 with 1 Axes>"
      ]
     },
     "metadata": {},
     "output_type": "display_data"
    }
   ],
   "source": [
    "plt.scatter(cdf.height, cdf.weight, color='blue')\n",
    "plt.xlabel(\"height\")\n",
    "plt.ylabel(\"weight\")\n",
    "plt.show()"
   ]
  },
  {
   "cell_type": "code",
   "execution_count": 36,
   "id": "9b4d0b13",
   "metadata": {},
   "outputs": [
    {
     "data": {
      "image/png": "[encoded data removed]",
      "text/plain": [
       "<Figure size 640x480 with 1 Axes>"
      ]
     },
     "metadata": {},
     "output_type": "display_data"
    }
   ],
   "source": [
    "plt.scatter(cdf.height, cdf.age, color='red')\n",
    "plt.xlabel(\"height\")\n",
    "plt.ylabel(\"age\")\n",
    "plt.show()"
   ]
  },
  {
   "cell_type": "code",
   "execution_count": 45,
   "id": "d1fbabb8",
   "metadata": {},
   "outputs": [
    {
     "name": "stdout",
     "output_type": "stream",
     "text": [
      "    age  weight  footsize  height\n",
      "0    29      76        37     156\n",
      "2    21      70        42     175\n",
      "3    22      70        43     175\n",
      "4    21      48        38     168\n",
      "5    25      65        40     176\n",
      "6    22      67        42     188\n",
      "7    21      72        34     174\n",
      "9    20      62        41     174\n",
      "11   20      66        41     179\n",
      "12   20      50        38     163\n",
      "13   17      55        39     164\n",
      "14   27      75        39     169\n",
      "16   29      62        38     168\n",
      "17   23      61        39     168\n",
      "    age  weight  footsize  height\n",
      "1    30     120        46     183\n",
      "8    48      71        37     160\n",
      "10   20      65        40     175\n",
      "15   22      68        49     175\n",
      "18   20      56        39     168\n",
      "[ True False  True  True  True  True  True  True False  True False  True\n",
      "  True  True  True False  True  True False]\n",
      "[False  True False False False False False False  True False  True False\n",
      " False False False  True False False  True]\n"
     ]
    }
   ],
   "source": [
    "msk = np.random.rand(len(df)) < 0.8\n",
    "train = cdf[msk]\n",
    "test = cdf[~msk]\n",
    "print (train)\n",
    "print (test)\n",
    "print (msk)\n",
    "print (~msk)"
   ]
  },
  {
   "cell_type": "code",
   "execution_count": 59,
   "id": "c169c95e",
   "metadata": {},
   "outputs": [
    {
     "name": "stdout",
     "output_type": "stream",
     "text": [
      "Coeficient:  [[1.82926829]]\n",
      "Intercept [99.2195122]\n"
     ]
    }
   ],
   "source": [
    "from sklearn import linear_model\n",
    "regr = linear_model.LinearRegression()\n",
    "train_x = np.asanyarray(train[['footsize']])\n",
    "train_y = np.asanyarray(train[['height']])\n",
    "regr.fit(train_x, train_y)\n",
    "\n",
    "print('Coeficient: ', regr.coef_)\n",
    "print('Intercept', regr.intercept_)"
   ]
  },
  {
   "cell_type": "code",
   "execution_count": 64,
   "id": "887f9808",
   "metadata": {},
   "outputs": [
    {
     "data": {
      "text/plain": [
       "Text(0, 0.5, 'height')"
      ]
     },
     "execution_count": 64,
     "metadata": {},
     "output_type": "execute_result"
    },
    {
     "data": {
      "image/png": "[encoded data removed]",
      "text/plain": [
       "<Figure size 640x480 with 1 Axes>"
      ]
     },
     "metadata": {},
     "output_type": "display_data"
    }
   ],
   "source": [
    "plt.scatter(train_x, train_y, color='blue')\n",
    "plt.plot(train_x, regr.coef_[0][0]*train_x + regr.intercept_[0], '-r')\n",
    "plt.xlabel(\"footsize\")\n",
    "plt.ylabel(\"height\")"
   ]
  },
  {
   "cell_type": "code",
   "execution_count": 68,
   "id": "cbd86f54",
   "metadata": {},
   "outputs": [
    {
     "name": "stdout",
     "output_type": "stream",
     "text": [
      "Mean absolute error: 5.26\n",
      "Residual sum of squares (MSE): 50.61\n",
      "R2-score: 0.15\n"
     ]
    }
   ],
   "source": [
    "from sklearn.metrics import r2_score\n",
    "\n",
    "test_x = np.asanyarray(test[[\"footsize\"]])\n",
    "test_y = np.asanyarray(test[[\"height\"]])\n",
    "test_y_ = regr.predict(test_x)\n",
    "\n",
    "print(\"Mean absolute error: %.2f\" % np.mean(np.absolute(test_y_ - test_y)))\n",
    "print(\"Residual sum of squares (MSE): %.2f\" % np.mean((test_y_ - test_y) ** 2))\n",
    "print(\"R2-score: %.2f\" % r2_score(test_y , test_y_) )"
   ]
  }
 ],
 "metadata": {
  "kernelspec": {
   "display_name": "Python 3 (ipykernel)",
   "language": "python",
   "name": "python3"
  },
  "language_info": {
   "codemirror_mode": {
    "name": "ipython",
    "version": 3
   },
   "file_extension": ".py",
   "mimetype": "text/x-python",
   "name": "python",
   "nbconvert_exporter": "python",
   "pygments_lexer": "ipython3",
   "version": "3.9.13"
  }
 },
 "nbformat": 4,
 "nbformat_minor": 5
}
